{
 "cells": [
  {
   "cell_type": "code",
   "execution_count": 1,
   "metadata": {},
   "outputs": [],
   "source": [
    "import cv2\n",
    "from keras.models import load_model\n",
    "import numpy as np\n",
    "import time"
   ]
  },
  {
   "cell_type": "markdown",
   "metadata": {},
   "source": [
    "#### MediaPipe \n",
    "    Check it out for rock paper scissors \n"
   ]
  },
  {
   "cell_type": "code",
   "execution_count": 10,
   "metadata": {},
   "outputs": [
    {
     "name": "stdout",
     "output_type": "stream",
     "text": [
      "WARNING:tensorflow:No training configuration found in the save file, so the model was *not* compiled. Compile it manually.\n",
      "Nothing\n",
      "Nothing\n",
      "Nothing\n",
      "Nothing\n",
      "Nothing\n",
      "Nothing\n",
      "Nothing\n",
      "Nothing\n",
      "Nothing\n",
      "Nothing\n"
     ]
    }
   ],
   "source": [
    "model = load_model('keras_model.h5')\n",
    "cap = cv2.VideoCapture(0)\n",
    "ret = cap.set(cv2.CAP_PROP_FRAME_WIDTH, 600.0) \n",
    "ret = cap.set(cv2.CAP_PROP_FRAME_HEIGHT, 300.0)\n",
    "data = np.ndarray(shape=(1, 224, 224, 3), dtype=np.float32)\n",
    "\n",
    "i = 10\n",
    "\n",
    "while i != 0: #loops forever  \n",
    "    ret, frame = cap.read()\n",
    "    resized_frame = cv2.resize(frame, (224, 224), interpolation = cv2.INTER_AREA)\n",
    "    image_np = np.array(resized_frame)\n",
    "    normalized_image = (image_np.astype(np.float32) / 127.0) - 1 # Normalize the image\n",
    "    data[0] = normalized_image\n",
    "    prediction = model.predict(data)\n",
    "    \n",
    "    cv2.putText(frame, \"TEST\", (10, 50),  cv2.FONT_HERSHEY_COMPLEX, 1, (255, 255, 0), 1)\n",
    "\n",
    "    cv2.imshow('frame', frame)\n",
    "\n",
    "    # Press q to close the window\n",
    "    #print(prediction)\n",
    "\n",
    "    if prediction[0][0] > .8:\n",
    "        print(\"Rock\")\n",
    "\n",
    "    elif prediction[0][1] > .8:\n",
    "        print(\"Paper\")\n",
    "\n",
    "    elif prediction[0][2] > .8: \n",
    "        print(\"Scissors\")\n",
    "\n",
    "    else:\n",
    "        print(\"Nothing\")\n",
    "\n",
    "    i -= 1\n",
    "    time.sleep(1)\n",
    "\n",
    "    if cv2.waitKey(1) & 0xFF == ord('q'):\n",
    "        break\n",
    "            \n",
    "# After the loop release the cap object\n",
    "cap.release()\n",
    "# Destroy all the windows\n",
    "cv2.destroyAllWindows()"
   ]
  },
  {
   "cell_type": "code",
   "execution_count": 10,
   "metadata": {},
   "outputs": [
    {
     "name": "stdout",
     "output_type": "stream",
     "text": [
      "ROCK\n",
      "PAPER\n",
      "SCISSORS\n",
      "SHOOT\n"
     ]
    },
    {
     "data": {
      "text/plain": [
       "'Game void/not a valid move'"
      ]
     },
     "execution_count": 10,
     "metadata": {},
     "output_type": "execute_result"
    }
   ],
   "source": [
    "import time\n",
    "\n",
    "# define the countdown func.\n",
    "def countdown(t):\n",
    "    \n",
    "    while t:\n",
    "        if t == 3:\n",
    "            print(\"ROCK\")\n",
    "        if t == 2:\n",
    "            print(\"PAPER\")\n",
    "        if t == 1:\n",
    "            print(\"SCISSORS\")            \n",
    "        time.sleep(1)\n",
    "        t -= 1\n",
    "    print('SHOOT')\n",
    "\n",
    "\n",
    "\n",
    "def play_game():\n",
    "\n",
    "    round = 3\n",
    "    computer_score = 0\n",
    "    player_score = 0\n",
    "\n",
    "    while round:\n",
    "\n",
    "        countdown(3)\n",
    "\n",
    "        player = \"Rock\"\n",
    "        computer = \"Rock\"\n",
    "        \n",
    "        round_result = play_result(player, computer)\n",
    "\n",
    "\n",
    "\n",
    "\n",
    "def play_result(player, computer):\n",
    "    \n",
    "    if player == computer:\n",
    "        return(\"Tie\")\n",
    "    elif player == \"Rock\":\n",
    "        if computer == \"Scissors\":\n",
    "            return(\"player wins\")\n",
    "        else: \n",
    "            return(\"Computer Wins\")\n",
    "    elif player == \"Paper\":\n",
    "        if computer == \"Rock\":\n",
    "            return(\"Computer Wins\")\n",
    "        else:\n",
    "            return(\"Player Wins\")\n",
    "    elif player == \"Scissors\":\n",
    "        if computer == \"Paper\":\n",
    "            return(\"Player Wins\")\n",
    "        else:\n",
    "            return(\"computer wins\")\n",
    "    else:\n",
    "        return (\"Game void/not a valid move\")\n",
    "\n",
    "\n",
    "play_game()"
   ]
  }
 ],
 "metadata": {
  "interpreter": {
   "hash": "4191b66945458886abb7e4be295745efdb5f7d9157f3e6438fef50f3bd8ff6b0"
  },
  "kernelspec": {
   "display_name": "Python 3.10.0 64-bit ('rps_env': conda)",
   "language": "python",
   "name": "python3"
  },
  "language_info": {
   "codemirror_mode": {
    "name": "ipython",
    "version": 3
   },
   "file_extension": ".py",
   "mimetype": "text/x-python",
   "name": "python",
   "nbconvert_exporter": "python",
   "pygments_lexer": "ipython3",
   "version": "3.9.7"
  },
  "orig_nbformat": 4
 },
 "nbformat": 4,
 "nbformat_minor": 2
}
